{
 "cells": [
  {
   "cell_type": "markdown",
   "id": "be9533bf",
   "metadata": {},
   "source": [
    "# Tutorial 1: calibration"
   ]
  },
  {
   "cell_type": "code",
   "execution_count": 1,
   "id": "6b165437",
   "metadata": {},
   "outputs": [],
   "source": [
    "import matplotlib.pyplot as plt\n",
    "import numpy as np\n",
    "import pandas as pd\n",
    "import requests"
   ]
  },
  {
   "cell_type": "code",
   "execution_count": 2,
   "id": "836c5fdb",
   "metadata": {},
   "outputs": [],
   "source": [
    "url = 'https://raw.githubusercontent.com/oguerrer/ppi_app/main/code/ppi.py'\n",
    "r = requests.get(url)\n",
    "with open('ppi.py', 'w') as f:\n",
    "    f.write(r.text)\n",
    "import ppi\n",
    "\n",
    "url = 'https://raw.githubusercontent.com/oguerrer/ppi_app/main/code/calibrator.py'\n",
    "r = requests.get(url)\n",
    "with open('calibrator.py', 'w') as f:\n",
    "    f.write(r.text)\n",
    "import calibrator"
   ]
  },
  {
   "cell_type": "code",
   "execution_count": null,
   "id": "f8c7ae31",
   "metadata": {},
   "outputs": [],
   "source": []
  }
 ],
 "metadata": {
  "kernelspec": {
   "display_name": "Python 3",
   "language": "python",
   "name": "python3"
  },
  "language_info": {
   "codemirror_mode": {
    "name": "ipython",
    "version": 3
   },
   "file_extension": ".py",
   "mimetype": "text/x-python",
   "name": "python",
   "nbconvert_exporter": "python",
   "pygments_lexer": "ipython3",
   "version": "3.8.5"
  }
 },
 "nbformat": 4,
 "nbformat_minor": 5
}
