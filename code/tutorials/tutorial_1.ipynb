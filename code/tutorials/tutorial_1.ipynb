{
 "cells": [
  {
   "cell_type": "markdown",
   "id": "be9533bf",
   "metadata": {},
   "source": [
    "# Tutorial 1: calibration"
   ]
  },
  {
   "cell_type": "code",
   "execution_count": 1,
   "id": "6b165437",
   "metadata": {},
   "outputs": [],
   "source": [
    "import matplotlib.pyplot as plt\n",
    "import numpy as np\n",
    "import pandas as pd\n",
    "import requests\n",
    "import os"
   ]
  },
  {
   "cell_type": "code",
   "execution_count": 2,
   "id": "836c5fdb",
   "metadata": {},
   "outputs": [],
   "source": [
    "url = 'https://raw.githubusercontent.com/oguerrer/ppi_app/main/code/ppi.py'\n",
    "r = requests.get(url)\n",
    "with open('ppi.py', 'w') as f:\n",
    "    f.write(r.text)\n",
    "import ppi\n",
    "\n",
    "url = 'https://raw.githubusercontent.com/oguerrer/ppi_app/main/code/calibrator.py'\n",
    "r = requests.get(url)\n",
    "with open('calibrator.py', 'w') as f:\n",
    "    f.write(r.text)\n",
    "import calibrator"
   ]
  },
  {
   "cell_type": "markdown",
   "id": "baff3688",
   "metadata": {},
   "source": [
    "### Download datasets"
   ]
  },
  {
   "cell_type": "code",
   "execution_count": 3,
   "id": "b3fd3f39",
   "metadata": {},
   "outputs": [],
   "source": [
    "file_names = ['expenditure_matrix_imperfect', 'expenditure_matrix_perfect', 'expenditure_mean',\n",
    "        'expenditure_serie', 'indicators_properties', 'indicators_series', 'network']\n",
    "\n",
    "for file_name in file_names:\n",
    "    url = 'https://raw.githubusercontent.com/oguerrer/ppi_app/main/data/benchmark/'+file_name+'.csv'\n",
    "    r = requests.get(url)\n",
    "    with open(os.path.split(url)[1], 'wb') as f, \\\n",
    "            requests.get(url, stream=True) as r:\n",
    "        for line in r.iter_lines():\n",
    "            f.write(line+'\\n'.encode())"
   ]
  },
  {
   "cell_type": "markdown",
   "id": "19f15a28",
   "metadata": {},
   "source": [
    "### Calibration with indicator time series only"
   ]
  },
  {
   "cell_type": "code",
   "execution_count": 4,
   "id": "fee09654",
   "metadata": {},
   "outputs": [],
   "source": [
    "# Load indicators\n",
    "series = np.loadtxt('indicators_series.csv', delimiter=',', dtype=float)\n",
    "# Get initial values\n",
    "I0 = series[:,0]\n",
    "# Get final values\n",
    "IF = series[:,-1]\n",
    "# Get success rates\n",
    "success_rates = np.sum(series[:,1::] < series[:,0:-1], axis=1)/(series.shape[1]-1)"
   ]
  },
  {
   "cell_type": "code",
   "execution_count": 5,
   "id": "5c7925a7",
   "metadata": {},
   "outputs": [],
   "source": [
    "parameters = calibrator.calibrate(I0, IF, success_rates, parallel_processes=20)\n",
    "df_indicators_series = pd.DataFrame(parameters[1::,:], columns=parameters[0])"
   ]
  },
  {
   "cell_type": "markdown",
   "id": "74778f47",
   "metadata": {},
   "source": [
    "### Calibration with single total budget"
   ]
  },
  {
   "cell_type": "code",
   "execution_count": 7,
   "id": "c345a547",
   "metadata": {},
   "outputs": [],
   "source": [
    "budget = np.loadtxt('expenditure_mean.csv', delimiter=',', dtype=float)\n",
    "Bs = float(budget)"
   ]
  },
  {
   "cell_type": "code",
   "execution_count": 8,
   "id": "782dd6d6",
   "metadata": {},
   "outputs": [],
   "source": [
    "parameters = calibrator.calibrate(I0, IF, success_rates, parallel_processes=20, Bs=Bs)\n",
    "df_expenditure_mean = pd.DataFrame(parameters[1::,:], columns=parameters[0])"
   ]
  },
  {
   "cell_type": "markdown",
   "id": "fd8fb06a",
   "metadata": {},
   "source": [
    "### Calibration with total budget time series"
   ]
  },
  {
   "cell_type": "code",
   "execution_count": 11,
   "id": "e7e68a38",
   "metadata": {},
   "outputs": [],
   "source": [
    "budget = np.loadtxt('expenditure_serie.csv', delimiter=',', dtype=float)\n",
    "Bs = budget"
   ]
  },
  {
   "cell_type": "code",
   "execution_count": 12,
   "id": "dad22bab",
   "metadata": {},
   "outputs": [],
   "source": [
    "parameters = calibrator.calibrate(I0, IF, success_rates, parallel_processes=20, Bs=Bs)\n",
    "df_expenditure_serie = pd.DataFrame(parameters[1::,:], columns=parameters[0])"
   ]
  },
  {
   "cell_type": "markdown",
   "id": "4501bd21",
   "metadata": {},
   "source": [
    "### Calibration with perfect budget matrix"
   ]
  },
  {
   "cell_type": "code",
   "execution_count": 14,
   "id": "422145a6",
   "metadata": {},
   "outputs": [],
   "source": [
    "budget = np.loadtxt('expenditure_matrix_perfect.csv', delimiter=',', dtype=float)\n",
    "Bs = budget\n",
    "B_dict = {}\n",
    "for i in range(len(I0)):\n",
    "    B_dict[i] = [i]"
   ]
  },
  {
   "cell_type": "code",
   "execution_count": 15,
   "id": "5be0d400",
   "metadata": {},
   "outputs": [],
   "source": [
    "parameters = calibrator.calibrate(I0, IF, success_rates, parallel_processes=20, Bs=Bs, B_dict=B_dict)\n",
    "df_expenditure_matrix_perfect = pd.DataFrame(parameters[1::,:], columns=parameters[0])"
   ]
  },
  {
   "cell_type": "markdown",
   "id": "5917bcca",
   "metadata": {},
   "source": [
    "### Calibration with imperfect budget matrix"
   ]
  },
  {
   "cell_type": "code",
   "execution_count": 18,
   "id": "d9448e2e",
   "metadata": {},
   "outputs": [],
   "source": [
    "budget = np.loadtxt('expenditure_matrix_imperfect.csv', delimiter=',', dtype=float)\n",
    "Bs = budget\n",
    "B_dict = {}\n",
    "j = 0\n",
    "for i in range(len(I0)):\n",
    "    B_dict[i] = [j]\n",
    "    if i%2==0 and j<len(Bs)-1:\n",
    "        j+=1"
   ]
  },
  {
   "cell_type": "code",
   "execution_count": 20,
   "id": "0f9d0a89",
   "metadata": {},
   "outputs": [],
   "source": [
    "parameters = calibrator.calibrate(I0, IF, success_rates, parallel_processes=20, Bs=Bs, B_dict=B_dict)\n",
    "df_expenditure_matrix_imperfect = pd.DataFrame(parameters[1::,:], columns=parameters[0])"
   ]
  },
  {
   "cell_type": "markdown",
   "id": "704fc6d6",
   "metadata": {},
   "source": [
    "### Calibration with indicator properties"
   ]
  },
  {
   "cell_type": "code",
   "execution_count": 30,
   "id": "cab25c05",
   "metadata": {},
   "outputs": [],
   "source": [
    "df2 = pd.read_csv('indicators_properties.csv')\n",
    "# instrumental indicators\n",
    "R = df2.instrumental.values\n",
    "# quality of monitoring\n",
    "qm = df2.controlOfCorruption.values[R==1]\n",
    "# quality of monitoring\n",
    "rl = df2.ruleOfLaw.values[R==1]\n",
    "# spillover network\n",
    "A = np.loadtxt('network.csv', delimiter=',', dtype=float)\n",
    "\n",
    "# update B_dict to consider instrumental indicators only\n",
    "B_dict = {}\n",
    "j = 0\n",
    "for i in range(len(I0)):\n",
    "    if R[i] == 1:\n",
    "        B_dict[i] = [j]\n",
    "        if i%2==0 and j<len(Bs)-1:\n",
    "            j+=1"
   ]
  },
  {
   "cell_type": "code",
   "execution_count": 24,
   "id": "5337788c",
   "metadata": {},
   "outputs": [],
   "source": [
    "parameters = calibrator.calibrate(I0, IF, success_rates, parallel_processes=20, Bs=Bs, B_dict=B_dict, \n",
    "                                  A=A, R=R, qm=qm, rl=rl)\n",
    "dfp1 = pd.DataFrame(parameters[1::,:], columns=parameters[0])"
   ]
  },
  {
   "cell_type": "markdown",
   "id": "1aa017cd",
   "metadata": {},
   "source": [
    "### Verify robustness between two independent calibrations"
   ]
  },
  {
   "cell_type": "code",
   "execution_count": 26,
   "id": "60e132bc",
   "metadata": {},
   "outputs": [],
   "source": [
    "parameters = calibrator.calibrate(I0, IF, success_rates, parallel_processes=20, Bs=Bs, B_dict=B_dict, \n",
    "                                  R=R, qm=qm, rl=rl)\n",
    "dfp2 = pd.DataFrame(parameters[1::,:], columns=parameters[0])"
   ]
  },
  {
   "cell_type": "code",
   "execution_count": 29,
   "id": "853a0a42",
   "metadata": {},
   "outputs": [
    {
     "data": {
      "image/png": "[encoded data removed]",
      "text/plain": [
       "<Figure size 432x288 with 1 Axes>"
      ]
     },
     "metadata": {
      "needs_background": "light"
     },
     "output_type": "display_data"
    }
   ],
   "source": [
    "plt.plot(dfp1.alpha, dfp2.alpha, '.')\n",
    "plt.xlabel('alpha calibration 1')\n",
    "plt.ylabel('alpha calibration 2')\n",
    "plt.show()"
   ]
  },
  {
   "cell_type": "markdown",
   "id": "b9339998",
   "metadata": {},
   "source": [
    "### Prospective simulations"
   ]
  },
  {
   "cell_type": "code",
   "execution_count": 32,
   "id": "25d9683f",
   "metadata": {},
   "outputs": [],
   "source": [
    "# projected budget matrix\n",
    "Bs_future = np.tile(Bs[:,-1], (20,1)).T\n",
    "# Minimum and maximum values\n",
    "Imin = np.zeros(len(I0))\n",
    "Imax = np.ones(len(I0))\n",
    "# paramters\n",
    "alphas = dfp2.alpha.values.astype(float)\n",
    "alphas_prime = dfp2.alpha_prime.values.astype(float)\n",
    "betas = dfp2.beta.values.astype(float)"
   ]
  },
  {
   "cell_type": "code",
   "execution_count": 33,
   "id": "ef1567fe",
   "metadata": {},
   "outputs": [
    {
     "ename": "AssertionError",
     "evalue": "All entries in Imin should be lower than I0",
     "output_type": "error",
     "traceback": [
      "\u001b[0;31m---------------------------------------------------------------------------\u001b[0m",
      "\u001b[0;31mAssertionError\u001b[0m                            Traceback (most recent call last)",
      "\u001b[0;32m<ipython-input-33-08a9ff91f541>\u001b[0m in \u001b[0;36m<module>\u001b[0;34m\u001b[0m\n\u001b[1;32m      1\u001b[0m \u001b[0;31m# single simulation\u001b[0m\u001b[0;34m\u001b[0m\u001b[0;34m\u001b[0m\u001b[0;34m\u001b[0m\u001b[0m\n\u001b[0;32m----> 2\u001b[0;31m outputs = ppi.run_ppi(I0=I0, alphas=alphas, alphas_prime=alphas_prime, \n\u001b[0m\u001b[1;32m      3\u001b[0m                           \u001b[0mbetas\u001b[0m\u001b[0;34m=\u001b[0m\u001b[0mbetas\u001b[0m\u001b[0;34m,\u001b[0m \u001b[0mA\u001b[0m\u001b[0;34m=\u001b[0m\u001b[0mA\u001b[0m\u001b[0;34m,\u001b[0m \u001b[0mR\u001b[0m\u001b[0;34m=\u001b[0m\u001b[0mR\u001b[0m\u001b[0;34m,\u001b[0m \u001b[0mqm\u001b[0m\u001b[0;34m=\u001b[0m\u001b[0mqm\u001b[0m\u001b[0;34m,\u001b[0m \u001b[0mrl\u001b[0m\u001b[0;34m=\u001b[0m\u001b[0mrl\u001b[0m\u001b[0;34m,\u001b[0m\u001b[0;34m\u001b[0m\u001b[0;34m\u001b[0m\u001b[0m\n\u001b[1;32m      4\u001b[0m                           Bs=Bs_future, B_dict=B_dict, Imin=Imin, Imax=Imax)\n\u001b[1;32m      5\u001b[0m \u001b[0;34m\u001b[0m\u001b[0m\n",
      "\u001b[0;32m~/Documents/GitHub/ppi_app/code/tutorials/ppi.py\u001b[0m in \u001b[0;36mrun_ppi\u001b[0;34m(I0, alphas, alphas_prime, betas, A, R, bs, qm, rl, Imax, Imin, Bs, B_dict, G, T, frontier)\u001b[0m\n\u001b[1;32m    260\u001b[0m         \u001b[0;32massert\u001b[0m \u001b[0mlen\u001b[0m\u001b[0;34m(\u001b[0m\u001b[0mImin\u001b[0m\u001b[0;34m)\u001b[0m \u001b[0;34m==\u001b[0m \u001b[0mN\u001b[0m\u001b[0;34m,\u001b[0m \u001b[0;34m'Imin should have the same size as I0'\u001b[0m\u001b[0;34m\u001b[0m\u001b[0;34m\u001b[0m\u001b[0m\n\u001b[1;32m    261\u001b[0m         \u001b[0;32mif\u001b[0m \u001b[0mnp\u001b[0m\u001b[0;34m.\u001b[0m\u001b[0msum\u001b[0m\u001b[0;34m(\u001b[0m\u001b[0;34m~\u001b[0m\u001b[0mnp\u001b[0m\u001b[0;34m.\u001b[0m\u001b[0misnan\u001b[0m\u001b[0;34m(\u001b[0m\u001b[0mImin\u001b[0m\u001b[0;34m)\u001b[0m\u001b[0;34m)\u001b[0m \u001b[0;34m>\u001b[0m \u001b[0;36m0\u001b[0m\u001b[0;34m:\u001b[0m\u001b[0;34m\u001b[0m\u001b[0;34m\u001b[0m\u001b[0m\n\u001b[0;32m--> 262\u001b[0;31m             \u001b[0;32massert\u001b[0m \u001b[0mnp\u001b[0m\u001b[0;34m.\u001b[0m\u001b[0msum\u001b[0m\u001b[0;34m(\u001b[0m\u001b[0mImin\u001b[0m\u001b[0;34m[\u001b[0m\u001b[0;34m~\u001b[0m\u001b[0mnp\u001b[0m\u001b[0;34m.\u001b[0m\u001b[0misnan\u001b[0m\u001b[0;34m(\u001b[0m\u001b[0mImin\u001b[0m\u001b[0;34m)\u001b[0m\u001b[0;34m]\u001b[0m \u001b[0;34m<\u001b[0m \u001b[0mI0\u001b[0m\u001b[0;34m[\u001b[0m\u001b[0;34m~\u001b[0m\u001b[0mnp\u001b[0m\u001b[0;34m.\u001b[0m\u001b[0misnan\u001b[0m\u001b[0;34m(\u001b[0m\u001b[0mImin\u001b[0m\u001b[0;34m)\u001b[0m\u001b[0;34m]\u001b[0m\u001b[0;34m)\u001b[0m \u001b[0;34m==\u001b[0m \u001b[0;36m0\u001b[0m\u001b[0;34m,\u001b[0m \u001b[0;34m'All entries in Imin should be lower than I0'\u001b[0m\u001b[0;34m\u001b[0m\u001b[0;34m\u001b[0m\u001b[0m\n\u001b[0m\u001b[1;32m    263\u001b[0m \u001b[0;34m\u001b[0m\u001b[0m\n\u001b[1;32m    264\u001b[0m \u001b[0;34m\u001b[0m\u001b[0m\n",
      "\u001b[0;31mAssertionError\u001b[0m: All entries in Imin should be lower than I0"
     ]
    }
   ],
   "source": [
    "# single simulation\n",
    "outputs = ppi.run_ppi(I0=I0, alphas=alphas, alphas_prime=alphas_prime, \n",
    "                          betas=betas, A=A, R=R, qm=qm, rl=rl,\n",
    "                          Bs=Bs_future, B_dict=B_dict, Imin=Imin, Imax=Imax)\n",
    "\n",
    "# unpack matrices with time series\n",
    "tsI, tsC, tsF, tsP, tsS, tsG = outputs"
   ]
  },
  {
   "cell_type": "code",
   "execution_count": 34,
   "id": "16f644c0",
   "metadata": {},
   "outputs": [
    {
     "ename": "NameError",
     "evalue": "name 'tsI' is not defined",
     "output_type": "error",
     "traceback": [
      "\u001b[0;31m---------------------------------------------------------------------------\u001b[0m",
      "\u001b[0;31mNameError\u001b[0m                                 Traceback (most recent call last)",
      "\u001b[0;32m<ipython-input-34-daddd7650407>\u001b[0m in \u001b[0;36m<module>\u001b[0;34m\u001b[0m\n\u001b[0;32m----> 1\u001b[0;31m \u001b[0;32mfor\u001b[0m \u001b[0mserie\u001b[0m \u001b[0;32min\u001b[0m \u001b[0mtsI\u001b[0m\u001b[0;34m:\u001b[0m\u001b[0;34m\u001b[0m\u001b[0;34m\u001b[0m\u001b[0m\n\u001b[0m\u001b[1;32m      2\u001b[0m     \u001b[0mplt\u001b[0m\u001b[0;34m.\u001b[0m\u001b[0mplot\u001b[0m\u001b[0;34m(\u001b[0m\u001b[0mserie\u001b[0m\u001b[0;34m)\u001b[0m\u001b[0;34m\u001b[0m\u001b[0;34m\u001b[0m\u001b[0m\n\u001b[1;32m      3\u001b[0m \u001b[0mplt\u001b[0m\u001b[0;34m.\u001b[0m\u001b[0mxlabel\u001b[0m\u001b[0;34m(\u001b[0m\u001b[0;34m'time'\u001b[0m\u001b[0;34m)\u001b[0m\u001b[0;34m\u001b[0m\u001b[0;34m\u001b[0m\u001b[0m\n\u001b[1;32m      4\u001b[0m \u001b[0mplt\u001b[0m\u001b[0;34m.\u001b[0m\u001b[0mylabel\u001b[0m\u001b[0;34m(\u001b[0m\u001b[0;34m'indicator'\u001b[0m\u001b[0;34m)\u001b[0m\u001b[0;34m\u001b[0m\u001b[0;34m\u001b[0m\u001b[0m\n",
      "\u001b[0;31mNameError\u001b[0m: name 'tsI' is not defined"
     ]
    }
   ],
   "source": [
    "# plot projected time series\n",
    "for serie in tsI:\n",
    "    plt.plot(serie)\n",
    "plt.xlabel('time')\n",
    "plt.ylabel('indicator')"
   ]
  },
  {
   "cell_type": "code",
   "execution_count": 35,
   "id": "0f79f5a3",
   "metadata": {},
   "outputs": [
    {
     "ename": "AssertionError",
     "evalue": "All entries in Imin should be lower than I0",
     "output_type": "error",
     "traceback": [
      "\u001b[0;31m---------------------------------------------------------------------------\u001b[0m",
      "\u001b[0;31mAssertionError\u001b[0m                            Traceback (most recent call last)",
      "\u001b[0;32m<ipython-input-35-0ee089f10920>\u001b[0m in \u001b[0;36m<module>\u001b[0;34m\u001b[0m\n\u001b[1;32m      2\u001b[0m \u001b[0mall_outputs\u001b[0m \u001b[0;34m=\u001b[0m \u001b[0;34m[\u001b[0m\u001b[0;34m]\u001b[0m\u001b[0;34m\u001b[0m\u001b[0;34m\u001b[0m\u001b[0m\n\u001b[1;32m      3\u001b[0m \u001b[0;32mfor\u001b[0m \u001b[0msim\u001b[0m \u001b[0;32min\u001b[0m \u001b[0mrange\u001b[0m\u001b[0;34m(\u001b[0m\u001b[0;36m100\u001b[0m\u001b[0;34m)\u001b[0m\u001b[0;34m:\u001b[0m\u001b[0;34m\u001b[0m\u001b[0;34m\u001b[0m\u001b[0m\n\u001b[0;32m----> 4\u001b[0;31m     outputs = ppi.run_ppi(I0=I0, alphas=alphas, alphas_prime=alphas_prime, \n\u001b[0m\u001b[1;32m      5\u001b[0m                           \u001b[0mbetas\u001b[0m\u001b[0;34m=\u001b[0m\u001b[0mbetas\u001b[0m\u001b[0;34m,\u001b[0m \u001b[0mA\u001b[0m\u001b[0;34m=\u001b[0m\u001b[0mA\u001b[0m\u001b[0;34m,\u001b[0m \u001b[0mR\u001b[0m\u001b[0;34m=\u001b[0m\u001b[0mR\u001b[0m\u001b[0;34m,\u001b[0m \u001b[0mqm\u001b[0m\u001b[0;34m=\u001b[0m\u001b[0mqm\u001b[0m\u001b[0;34m,\u001b[0m \u001b[0mrl\u001b[0m\u001b[0;34m=\u001b[0m\u001b[0mrl\u001b[0m\u001b[0;34m,\u001b[0m\u001b[0;34m\u001b[0m\u001b[0;34m\u001b[0m\u001b[0m\n\u001b[1;32m      6\u001b[0m                           Bs=Bs_future, B_dict=B_dict, Imin=Imin, Imax=Imax)\n",
      "\u001b[0;32m~/Documents/GitHub/ppi_app/code/tutorials/ppi.py\u001b[0m in \u001b[0;36mrun_ppi\u001b[0;34m(I0, alphas, alphas_prime, betas, A, R, bs, qm, rl, Imax, Imin, Bs, B_dict, G, T, frontier)\u001b[0m\n\u001b[1;32m    260\u001b[0m         \u001b[0;32massert\u001b[0m \u001b[0mlen\u001b[0m\u001b[0;34m(\u001b[0m\u001b[0mImin\u001b[0m\u001b[0;34m)\u001b[0m \u001b[0;34m==\u001b[0m \u001b[0mN\u001b[0m\u001b[0;34m,\u001b[0m \u001b[0;34m'Imin should have the same size as I0'\u001b[0m\u001b[0;34m\u001b[0m\u001b[0;34m\u001b[0m\u001b[0m\n\u001b[1;32m    261\u001b[0m         \u001b[0;32mif\u001b[0m \u001b[0mnp\u001b[0m\u001b[0;34m.\u001b[0m\u001b[0msum\u001b[0m\u001b[0;34m(\u001b[0m\u001b[0;34m~\u001b[0m\u001b[0mnp\u001b[0m\u001b[0;34m.\u001b[0m\u001b[0misnan\u001b[0m\u001b[0;34m(\u001b[0m\u001b[0mImin\u001b[0m\u001b[0;34m)\u001b[0m\u001b[0;34m)\u001b[0m \u001b[0;34m>\u001b[0m \u001b[0;36m0\u001b[0m\u001b[0;34m:\u001b[0m\u001b[0;34m\u001b[0m\u001b[0;34m\u001b[0m\u001b[0m\n\u001b[0;32m--> 262\u001b[0;31m             \u001b[0;32massert\u001b[0m \u001b[0mnp\u001b[0m\u001b[0;34m.\u001b[0m\u001b[0msum\u001b[0m\u001b[0;34m(\u001b[0m\u001b[0mImin\u001b[0m\u001b[0;34m[\u001b[0m\u001b[0;34m~\u001b[0m\u001b[0mnp\u001b[0m\u001b[0;34m.\u001b[0m\u001b[0misnan\u001b[0m\u001b[0;34m(\u001b[0m\u001b[0mImin\u001b[0m\u001b[0;34m)\u001b[0m\u001b[0;34m]\u001b[0m \u001b[0;34m<\u001b[0m \u001b[0mI0\u001b[0m\u001b[0;34m[\u001b[0m\u001b[0;34m~\u001b[0m\u001b[0mnp\u001b[0m\u001b[0;34m.\u001b[0m\u001b[0misnan\u001b[0m\u001b[0;34m(\u001b[0m\u001b[0mImin\u001b[0m\u001b[0;34m)\u001b[0m\u001b[0;34m]\u001b[0m\u001b[0;34m)\u001b[0m \u001b[0;34m==\u001b[0m \u001b[0;36m0\u001b[0m\u001b[0;34m,\u001b[0m \u001b[0;34m'All entries in Imin should be lower than I0'\u001b[0m\u001b[0;34m\u001b[0m\u001b[0;34m\u001b[0m\u001b[0m\n\u001b[0m\u001b[1;32m    263\u001b[0m \u001b[0;34m\u001b[0m\u001b[0m\n\u001b[1;32m    264\u001b[0m \u001b[0;34m\u001b[0m\u001b[0m\n",
      "\u001b[0;31mAssertionError\u001b[0m: All entries in Imin should be lower than I0"
     ]
    }
   ],
   "source": [
    "# Monte Carlo simulations\n",
    "all_outputs = []\n",
    "for sim in range(100):\n",
    "    outputs = ppi.run_ppi(I0=I0, alphas=alphas, alphas_prime=alphas_prime, \n",
    "                          betas=betas, A=A, R=R, qm=qm, rl=rl,\n",
    "                          Bs=Bs_future, B_dict=B_dict, Imin=Imin, Imax=Imax)\n",
    "    all_outputs.append(outputs)\n",
    "\n",
    "# unpack Monte Carlo samples\n",
    "tsI, tsC, tsF, tsP, tsS, tsG = zip(*all_outputs)\n",
    "# compute means\n",
    "mean_tsI = np.mean(tsI, axis=0)"
   ]
  },
  {
   "cell_type": "code",
   "execution_count": null,
   "id": "30540968",
   "metadata": {},
   "outputs": [],
   "source": [
    "# plot projected time series\n",
    "for serie in mean_tsI:\n",
    "    plt.plot(serie)\n",
    "plt.xlabel('time')\n",
    "plt.ylabel('indicator')"
   ]
  }
 ],
 "metadata": {
  "kernelspec": {
   "display_name": "Python 3",
   "language": "python",
   "name": "python3"
  },
  "language_info": {
   "codemirror_mode": {
    "name": "ipython",
    "version": 3
   },
   "file_extension": ".py",
   "mimetype": "text/x-python",
   "name": "python",
   "nbconvert_exporter": "python",
   "pygments_lexer": "ipython3",
   "version": "3.8.5"
  }
 },
 "nbformat": 4,
 "nbformat_minor": 5
}
