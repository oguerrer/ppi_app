{
 "cells": [
  {
   "cell_type": "markdown",
   "id": "be9533bf",
   "metadata": {},
   "source": [
    "# Tutorial 1: calibration"
   ]
  },
  {
   "cell_type": "code",
   "execution_count": 1,
   "id": "6b165437",
   "metadata": {},
   "outputs": [],
   "source": [
    "import matplotlib.pyplot as plt\n",
    "import numpy as np\n",
    "import pandas as pd\n",
    "import requests\n",
    "import os"
   ]
  },
  {
   "cell_type": "code",
   "execution_count": 2,
   "id": "836c5fdb",
   "metadata": {},
   "outputs": [],
   "source": [
    "url = 'https://raw.githubusercontent.com/oguerrer/ppi_app/main/code/ppi.py'\n",
    "r = requests.get(url)\n",
    "with open('ppi.py', 'w') as f:\n",
    "    f.write(r.text)\n",
    "import ppi\n",
    "\n",
    "url = 'https://raw.githubusercontent.com/oguerrer/ppi_app/main/code/calibrator.py'\n",
    "r = requests.get(url)\n",
    "with open('calibrator.py', 'w') as f:\n",
    "    f.write(r.text)\n",
    "import calibrator"
   ]
  },
  {
   "cell_type": "markdown",
   "id": "baff3688",
   "metadata": {},
   "source": [
    "### Download datasets"
   ]
  },
  {
   "cell_type": "code",
   "execution_count": 3,
   "id": "b3fd3f39",
   "metadata": {},
   "outputs": [],
   "source": [
    "file_names = ['expenditure_matrix_imperfect', 'expenditure_matrix_perfect', 'expenditure_mean',\n",
    "        'expenditure_serie', 'indicators_properties', 'indicators_series', 'network']\n",
    "\n",
    "for file_name in file_names:\n",
    "    url = 'https://raw.githubusercontent.com/oguerrer/ppi_app/main/data/benchmark/'+file_name+'.csv'\n",
    "    r = requests.get(url)\n",
    "    with open(os.path.split(url)[1], 'wb') as f, \\\n",
    "            requests.get(url, stream=True) as r:\n",
    "        for line in r.iter_lines():\n",
    "            f.write(line+'\\n'.encode())"
   ]
  },
  {
   "cell_type": "markdown",
   "id": "19f15a28",
   "metadata": {},
   "source": [
    "### Calibration with indicator time series only"
   ]
  },
  {
   "cell_type": "code",
   "execution_count": 4,
   "id": "fee09654",
   "metadata": {},
   "outputs": [],
   "source": [
    "# Load indicators\n",
    "series = np.loadtxt('indicators_series.csv', delimiter=',', dtype=float)\n",
    "# Get initial values\n",
    "I0 = series[:,0]\n",
    "# Get final values\n",
    "IF = series[:,-1]\n",
    "# Get success rates\n",
    "success_rates = np.sum(series[:,1::] < series[:,0:-1], axis=1)/(series.shape[1]-1)"
   ]
  },
  {
   "cell_type": "code",
   "execution_count": null,
   "id": "5c7925a7",
   "metadata": {},
   "outputs": [
    {
     "name": "stdout",
     "output_type": "stream",
     "text": [
      "1 -12351190.476569913\n",
      "2 -11632091.44776049\n",
      "3 -4496007.268976781\n",
      "4 -5859373.000180004\n",
      "5 -4141990.791104593\n",
      "6 -1867673.7813073755\n",
      "7 -711452.4330874585\n",
      "8 -1064298.5371420705\n",
      "9 -262721.46145500604\n",
      "10 -239465.62085696607\n",
      "11 -100811.72358157208\n",
      "12 -128422.16763700217\n",
      "13 -42673.14435697231\n",
      "14 -47794.96464685432\n",
      "15 -16861.619959843872\n",
      "16 -16699.780260122574\n",
      "17 -5678.714365456965\n",
      "18 -6159.327474008734\n",
      "19 -2295.6504881634173\n",
      "20 -2423.0679417329297\n",
      "21 -804.2328190440622\n",
      "22 -685.4208338771836\n",
      "23 -320.7019956223195\n",
      "24 -363.1923179973467\n",
      "25 -121.85613906504327\n",
      "26 -126.89140635219908\n",
      "27 -33.150520472083905\n",
      "28 -50.11039280270671\n",
      "29 -13.594015513548449\n",
      "30 -14.142893422627903\n",
      "31 -4.24741043544139\n",
      "32 -4.1597882798347845\n",
      "33 -1.8647167764848018\n",
      "34 -0.5471069618850566\n",
      "35 -0.46938041831078614\n",
      "36 -2.188205070514787\n",
      "37 -0.19417865697488979\n",
      "38 0.1407312319857832\n",
      "39 -0.3533480052252054\n",
      "40 -1.5437056893982355\n",
      "41 -0.2576621293464376\n",
      "42 0.18036359672714386\n",
      "43 -0.4770099870653899\n",
      "44 -0.5770399246366564\n",
      "45 0.3201736180006671\n",
      "46 -1.260753315120057\n",
      "47 0.10617450238119541\n",
      "48 0.2947892928942082\n",
      "49 0.04432107488319348\n",
      "50 0.07272132163054656\n",
      "51 0.19954367996212174\n",
      "52 0.11028984437629752\n",
      "53 -0.08139838634316332\n",
      "54 -1.2716321415950285\n",
      "55 -2.2590235904118572e-08\n",
      "56 -0.4519275735526307\n",
      "57 0.18389454279494377\n",
      "58 0.15628842478588678\n",
      "59 -2.4831380234347216\n",
      "60 0.1103683409032461\n",
      "61 -0.4979237004704209\n",
      "62 0.1604938978501279\n",
      "63 -0.1861435485867695\n",
      "64 0.10097721174802021\n",
      "65 0.14469810192466792\n",
      "66 -0.010709720976010084\n",
      "67 -0.4915441494865025\n",
      "68 -0.45692067687093596\n",
      "69 0.05115286859181223\n",
      "70 0.15231014591842906\n",
      "71 0.21924530224030891\n",
      "72 0.10962265113538139\n",
      "73 -0.2830675035133101\n",
      "74 0.11106857088214317\n",
      "75 -0.13480526309879837\n",
      "76 -0.7592767923127142\n",
      "77 -1.9915877227379966\n",
      "78 -0.1995370089827897\n",
      "79 -1.1618424037717627\n",
      "80 0.1945382052122704\n",
      "81 0.05228855390837783\n",
      "82 -1.6097611104322884\n",
      "83 0.17953786662354598\n",
      "84 0.05214135560689215\n",
      "85 0.2517322754740213\n",
      "86 0.2200477062162799\n",
      "87 0.0028940134450801125\n",
      "88 -1.3266225923649828\n",
      "89 0.07847789198615307\n",
      "90 -0.2460805637710053\n",
      "91 -0.5487692222146363\n",
      "92 0.0970682894621061\n",
      "93 -1.069570399922576\n",
      "94 0.388402493053323\n",
      "95 -0.13534102857079677\n",
      "96 0.12119888097953702\n",
      "97 0.19327892212532105\n",
      "98 -1.7402597493593777\n",
      "99 -1.7495822963484322\n",
      "100 -0.4695161501104581\n",
      "101 0.2837287745834357\n",
      "102 0.3885245848111699\n"
     ]
    }
   ],
   "source": [
    "parameters = calibrator.calibrate(I0, IF, success_rates, parallel_processes=20)\n",
    "df_indicators_series = pd.DataFrame(parameters[1::,:], columns=parameters[0])"
   ]
  },
  {
   "cell_type": "code",
   "execution_count": null,
   "id": "d324beb0",
   "metadata": {},
   "outputs": [],
   "source": []
  }
 ],
 "metadata": {
  "kernelspec": {
   "display_name": "Python 3",
   "language": "python",
   "name": "python3"
  },
  "language_info": {
   "codemirror_mode": {
    "name": "ipython",
    "version": 3
   },
   "file_extension": ".py",
   "mimetype": "text/x-python",
   "name": "python",
   "nbconvert_exporter": "python",
   "pygments_lexer": "ipython3",
   "version": "3.8.5"
  }
 },
 "nbformat": 4,
 "nbformat_minor": 5
}
