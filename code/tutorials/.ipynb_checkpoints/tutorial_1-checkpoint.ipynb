{
 "cells": [
  {
   "cell_type": "markdown",
   "id": "be9533bf",
   "metadata": {},
   "source": [
    "# Tutorial 1: calibration"
   ]
  },
  {
   "cell_type": "code",
   "execution_count": 1,
   "id": "6b165437",
   "metadata": {},
   "outputs": [],
   "source": [
    "import matplotlib.pyplot as plt\n",
    "import numpy as np\n",
    "import pandas as pd\n",
    "import requests\n",
    "import os"
   ]
  },
  {
   "cell_type": "code",
   "execution_count": 2,
   "id": "836c5fdb",
   "metadata": {},
   "outputs": [],
   "source": [
    "url = 'https://raw.githubusercontent.com/oguerrer/ppi_app/main/code/ppi.py'\n",
    "r = requests.get(url)\n",
    "with open('ppi.py', 'w') as f:\n",
    "    f.write(r.text)\n",
    "import ppi\n",
    "\n",
    "url = 'https://raw.githubusercontent.com/oguerrer/ppi_app/main/code/calibrator.py'\n",
    "r = requests.get(url)\n",
    "with open('calibrator.py', 'w') as f:\n",
    "    f.write(r.text)\n",
    "import calibrator"
   ]
  },
  {
   "cell_type": "markdown",
   "id": "3c918a72",
   "metadata": {},
   "source": [
    "### Download datasets"
   ]
  },
  {
   "cell_type": "code",
   "execution_count": null,
   "id": "1d44bf68",
   "metadata": {},
   "outputs": [],
   "source": [
    "file_names = ['expenditure_matrix_imperfect', 'expenditure_matrix_perfect', 'expenditure_mean',\n",
    "        'expenditure_serie', 'indicators_properties', 'indicators_series', 'network']\n",
    "\n",
    "for file_name in file_names:\n",
    "    url = 'https://raw.githubusercontent.com/oguerrer/ppi_app/main/data/benchmark/'+file_name+'.csv'\n",
    "    r = requests.get(url)\n",
    "    with open(os.path.split(url)[1], 'wb') as f, \\\n",
    "            requests.get(url, stream=True) as r:\n",
    "        for line in r.iter_lines():\n",
    "            f.write(line+'\\n'.encode())"
   ]
  },
  {
   "cell_type": "code",
   "execution_count": null,
   "id": "902e3a48",
   "metadata": {},
   "outputs": [],
   "source": []
  }
 ],
 "metadata": {
  "kernelspec": {
   "display_name": "Python 3",
   "language": "python",
   "name": "python3"
  },
  "language_info": {
   "codemirror_mode": {
    "name": "ipython",
    "version": 3
   },
   "file_extension": ".py",
   "mimetype": "text/x-python",
   "name": "python",
   "nbconvert_exporter": "python",
   "pygments_lexer": "ipython3",
   "version": "3.8.5"
  }
 },
 "nbformat": 4,
 "nbformat_minor": 5
}
